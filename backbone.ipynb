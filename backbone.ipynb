{
  "cells": [
    {
      "cell_type": "markdown",
      "source": [
        "## Colab Check\n",
        "Check environments."
      ],
      "metadata": {
        "id": "yas1eS3z4u1A"
      }
    },
    {
      "cell_type": "code",
      "source": [
        "!cat /proc/uptime | awk '{print $1 /60 /60 /24 \"days (\" $1 \"sec)\"}' # Google Colaboratory runnning time\n",
        "!head -n 1 /proc/driver/nvidia/gpus/**/information                  # GPU type\n",
        "!/usr/local/cuda/bin/nvcc --version | sed '4!d'                     # CUDA version\n",
        "!python --version                                                   # Python version\n",
        "!pip show torch | sed '2!d'                                         # PyTorch version"
      ],
      "metadata": {
        "id": "apQUbYNV4vby"
      },
      "execution_count": null,
      "outputs": []
    },
    {
      "cell_type": "markdown",
      "source": [
        "## Setup"
      ],
      "metadata": {
        "id": "LbzIMnIA4x3h"
      }
    },
    {
      "cell_type": "code",
      "source": [
        "# GoogleDrive\n",
        "from google.colab import drive\n",
        "drive.mount('/content/gdrive')\n",
        "\n",
        "# Dedicated dependencies install\n",
        "# !pip install \"torch==2.0.0\" -q            # Based on your PyTorch environment\n",
        "# !pip install \"torchaudio==2.0.1\" -q       # Based on your PyTorch environment\n",
        "# !pip install 'lightning>=2.0.0,<2.1.0' -q # Based on your PyTorch environment\n",
        "# !pip install git+https://github.com/tarepan/lightlightning.git\n",
        "\n",
        "# repository install\n",
        "!pip uninstall xxxx -y -q\n",
        "!pip install git+https://github.com/tarepan/xxxx -q"
      ],
      "metadata": {
        "id": "FvbX_7yL4y9X"
      },
      "execution_count": null,
      "outputs": []
    },
    {
      "cell_type": "markdown",
      "source": [
        "## Training"
      ],
      "metadata": {
        "id": "TN3wyiuR43G6"
      }
    },
    {
      "cell_type": "code",
      "source": [
        "# Launch TensorBoard\n",
        "# %load_ext tensorboard\n",
        "# %tensorboard --logdir /content/gdrive/MyDrive/ML_results/quickvc\n",
        "\n",
        "# Train\n",
        "!python -m xxxx.main_train \\\n",
        "    train.ckpt_log.dir_root=./xxxx \\\n",
        "    train.ckpt_log.name_exp=default \\\n",
        "    train.ckpt_log.name_version=version_0 \\\n",
        "    data.adress_data_root=/storage"
      ],
      "metadata": {
        "id": "hsJ7Vimp43NB"
      },
      "execution_count": null,
      "outputs": []
    }
  ],
  "metadata": {
    "colab": {
      "provenance": [],
      "private_outputs": true,
      "gpuType": "T4"
    },
    "kernelspec": {
      "display_name": "Python 3",
      "name": "python3"
    },
    "accelerator": "GPU"
  },
  "nbformat": 4,
  "nbformat_minor": 0
}